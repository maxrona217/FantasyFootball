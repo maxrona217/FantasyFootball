{
 "cells": [
  {
   "cell_type": "code",
   "execution_count": 1,
   "metadata": {},
   "outputs": [],
   "source": [
    "from selenium import webdriver \n",
    "from selenium.webdriver.common.by import By \n",
    "from selenium.webdriver.support.ui import WebDriverWait \n",
    "from selenium.webdriver.support import expected_conditions as EC \n",
    "from selenium.common.exceptions import TimeoutException\n",
    "import json\n",
    "import pandas as pd\n",
    "import math\n",
    "import itertools\n",
    "from tqdm import tqdm\n",
    "import numpy as np"
   ]
  },
  {
   "cell_type": "code",
   "execution_count": 2,
   "metadata": {},
   "outputs": [],
   "source": [
    "# Clean the offense dataframe\n",
    "def clean_offense(offense, week):\n",
    "    team_name = offense[0][0].replace(' Box Score', '')\n",
    "    offense.columns = offense.iloc[2]\n",
    "    names = [list(y) for x, y in itertools.groupby(map(lambda x: '|' if type(x) == float else x ,list(offense.iloc[2])), lambda z: z == '|') if not x]\n",
    "    offense_tags = ['', 'Passing ', 'Rushing ', 'Receiving ', 'Misc ', '']\n",
    "    names = list(map(lambda x: list(map(lambda y: x[1] + y, x[0])) ,zip(names, offense_tags)))\n",
    "    columns = []\n",
    "    sep = ''\n",
    "    for sublist in names:\n",
    "        if(sep != ''):\n",
    "            columns.append(sep)\n",
    "        for item in sublist:\n",
    "            columns.append(item)\n",
    "        sep = '|'\n",
    "    offense.columns = columns\n",
    "    offense = offense.drop('|', axis=1).drop([0,1,2])\n",
    "    offense['PLAYER'] = list(map(lambda info: info.split(',')[0].replace('*', '') if type(info) != float else '', offense['PLAYER, TEAM POS']))\n",
    "    offense['TEAM'] = list(map(lambda info: str(info.split(',')[1].split(u'\\xa0')[0].decode('ascii')).strip() if type(info) != float else '', offense['PLAYER, TEAM POS']))\n",
    "    offense['POS'] = list(map(lambda info: str(info.split(',')[1].split(u'\\xa0')[1].decode('ascii')).strip() if type(info) != float else '', offense['PLAYER, TEAM POS']))\n",
    "    offense['OPP'] = list(map(lambda x: x.replace('*', '').strip() if type(x) != float else '', offense['OPP']))\n",
    "    offense = offense.drop('PLAYER, TEAM POS', axis=1)\n",
    "    offense['STATUS ET'] = list(map(lambda x: str(x.replace(u'\\xbb', '')).strip() if type(x) != float else '', offense['STATUS ET']))\n",
    "    offense['FANTASY TEAM'] = team_name\n",
    "    offense['WEEK'] = week\n",
    "    l = len(offense.columns)\n",
    "    fields = [offense.columns[l-1], offense.columns[l-2]] + [offense.columns[0]] + list(offense.columns[l-5:l-3]) + list(offense.columns[1:l-5])\n",
    "    offense = offense[fields]\n",
    "    \n",
    "    return(offense)"
   ]
  },
  {
   "cell_type": "code",
   "execution_count": 3,
   "metadata": {},
   "outputs": [],
   "source": [
    "def clean_defense(defense, team, week):\n",
    "    names = list(filter(lambda x: str(x) != 'nan', list(defense.iloc[1])))\n",
    "    defense = defense.drop([0,1]).drop(defense.columns[4], axis=1).drop(defense.columns[12], axis=1)\n",
    "    defense.columns = names\n",
    "    defense['FANTASY TEAM'] = team\n",
    "    defense['WEEK'] = week\n",
    "    defense['STATUS ET'] = list(map(lambda x: str(x.replace(u'\\xbb', '')).strip() if type(x) != float else '', defense['STATUS ET']))\n",
    "    defense['POS'] = 'D/ST'\n",
    "    defense['PLAYER'] = list(map(lambda x: x.split(u'\\xa0')[0], defense['PLAYER, TEAM POS']))\n",
    "    defense = defense[['WEEK', 'FANTASY TEAM', 'SLOT', 'PLAYER', 'POS'] + list(defense.columns)[2:len(defense.columns)-4]]\n",
    "    return(defense)"
   ]
  },
  {
   "cell_type": "code",
   "execution_count": 4,
   "metadata": {},
   "outputs": [],
   "source": [
    "def clean_kicking(kicking, team, week):\n",
    "    names = list(filter(lambda x: str(x) != 'nan', list(kicking.iloc[1])))\n",
    "    kicking = kicking.drop([0,1]).drop([4,10], axis=1)\n",
    "    kicking.columns = names\n",
    "    kicking['PLAYER'] = list(map(lambda x: x.split(',')[0], kicking['PLAYER, TEAM POS']))\n",
    "    kicking['TEAM'] = list(map(lambda x: str(x.split(',')[1].split(u'\\xa0')[0]).strip(), kicking['PLAYER, TEAM POS']))\n",
    "    kicking['POS'] = 'K'\n",
    "    kicking['STATUS ET'] = list(map(lambda x: str(x.replace(u'\\xbb', '')).strip() if type(x) != float else '', kicking['STATUS ET']))\n",
    "    kicking['WEEK'] = week\n",
    "    kicking['FANTASY TEAM'] = team\n",
    "    kicking = kicking[['WEEK', 'FANTASY TEAM', 'SLOT', 'PLAYER', 'TEAM', 'POS'] + list(kicking.columns)[2:len(kicking.columns)-5]]\n",
    "    return(kicking)"
   ]
  },
  {
   "cell_type": "code",
   "execution_count": 5,
   "metadata": {},
   "outputs": [],
   "source": [
    "# Get all the stats for the week\n",
    "def get_stats(week):\n",
    "    offenses = []\n",
    "    defenses = []\n",
    "    kickers = []\n",
    "    for url in score_urls:\n",
    "        try:\n",
    "            browser.get(url)\n",
    "            WebDriverWait(browser, timeout).until(EC.visibility_of_element_located((By.XPATH, '//*[@id=\"content\"]/div/div[4]/div/div/div/div[5]')))\n",
    "        except TimeoutException:\n",
    "            print(\"Timed out waiting for page to laod\")\n",
    "            browser.quit()\n",
    "            \n",
    "        home_team = browser.find_element_by_xpath('//*[@id=\"teamInfos\"]/div[1]/div/div[2]/div[1]/b').text\n",
    "        away_team = browser.find_element_by_xpath('//*[@id=\"teamInfos\"]/div[2]/div/div[2]/div[1]/b').text\n",
    "\n",
    "        home_tables = pd.read_html(browser.find_element_by_xpath('//*[@id=\"content\"]/div/div[4]/div/div/div/div[5]').get_attribute(\"innerHTML\"))\n",
    "        away_tables = pd.read_html(browser.find_element_by_xpath('//*[@id=\"content\"]/div/div[4]/div/div/div/div[6]').get_attribute(\"innerHTML\"))\n",
    "        offenses.append(clean_offense(home_tables[0], week))\n",
    "        offenses.append(clean_offense(away_tables[0], week))\n",
    "        defenses.append(clean_defense(home_tables[2], home_team, week))\n",
    "        defenses.append(clean_defense(away_tables[2], away_team, week))\n",
    "        kickers.append(clean_kicking(home_tables[1], home_team, week))\n",
    "        kickers.append(clean_kicking(away_tables[1], away_team, week))\n",
    "    offenses = pd.concat(offenses)\n",
    "    defenses = pd.concat(defenses)\n",
    "    kickers = pd.concat(kickers)\n",
    "    return([offenses, defenses, kickers])\n",
    "    "
   ]
  },
  {
   "cell_type": "code",
   "execution_count": 6,
   "metadata": {},
   "outputs": [],
   "source": [
    "# Set browser options for incognito (for consistency) and headless\n",
    "option = webdriver.ChromeOptions()\n",
    "option.add_argument(\"incognito\")\n",
    "option.add_argument(\"headless\")"
   ]
  },
  {
   "cell_type": "code",
   "execution_count": 7,
   "metadata": {},
   "outputs": [],
   "source": [
    "# Load league configs ('May need to change directory')\n",
    "configs = json.load(open('config.json'))"
   ]
  },
  {
   "cell_type": "code",
   "execution_count": 8,
   "metadata": {
    "scrolled": true
   },
   "outputs": [],
   "source": [
    "# Log in to espn\n",
    "browser = webdriver.Chrome(executable_path='/Users/datalabs1/Downloads/chromedriver', chrome_options=option)\n",
    "timeout = 20\n",
    "try:\n",
    "    browser.get(\"https://www.espn.com/login\")\n",
    "    WebDriverWait(browser, timeout).until(EC.visibility_of_element_located((By.XPATH, '//*[@id=\"disneyid-iframe\"]')))\n",
    "    browser.switch_to.frame(browser.find_element_by_xpath('//*[@id=\"disneyid-iframe\"]'))\n",
    "except TimeoutException:\n",
    "    print(\"Timed out waiting for page to load\")\n",
    "    browser.quit()\n",
    "username_text_box = browser.find_element_by_xpath('//*[@id=\"did-ui-view\"]/div/section/section/form/section/div[1]/div/label/span[2]/input')\n",
    "username_text_box.send_keys(configs['username'])\n",
    "password_text_box = browser.find_element_by_xpath('//*[@id=\"did-ui-view\"]/div/section/section/form/section/div[2]/div/label/span[2]/input')\n",
    "password_text_box.send_keys(configs['password'])\n",
    "login = browser.find_element_by_xpath('//*[@id=\"did-ui-view\"]/div/section/section/form/section/div[3]/button')\n",
    "login.click()"
   ]
  },
  {
   "cell_type": "code",
   "execution_count": 9,
   "metadata": {},
   "outputs": [],
   "source": [
    "# Get the weeks that have been played (Only regular season for now)\n",
    "def get_weeks():\n",
    "    weeks_path = '//*[@id=\"content\"]/div/div[4]/div/div/div[2]/div[4]/a[contains(@title, \"Week\")]'\n",
    "    try:\n",
    "        browser.get(\"http://games.espn.com/ffl/scoreboard?leagueId={}&matchupPeriodId=1\".format(configs['league_id']))\n",
    "        WebDriverWait(browser, timeout).until(EC.visibility_of_element_located((By.XPATH, weeks_path)))\n",
    "    except TimeoutException:\n",
    "        print(\"Timed out waiting for page to load\")\n",
    "        browser.quit()\n",
    "\n",
    "    weeks = browser.find_elements_by_xpath(weeks_path)\n",
    "    weeks = ['1'] + map(lambda x: str(x.text), weeks)\n",
    "    return(weeks)"
   ]
  },
  {
   "cell_type": "code",
   "execution_count": 10,
   "metadata": {
    "scrolled": true
   },
   "outputs": [
    {
     "name": "stderr",
     "output_type": "stream",
     "text": [
      "100%|██████████| 12/12 [01:37<00:00,  6.07s/it]\n"
     ]
    }
   ],
   "source": [
    "# Collect stats for every week and combine\n",
    "stats = []\n",
    "for week in tqdm(get_weeks()):\n",
    "    score_path = '//*[@class=\"ptsBased matchup\"]/tbody/tr[3]/td/div/a[2]'\n",
    "    try:\n",
    "        browser.get(\"http://games.espn.com/ffl/scoreboard?leagueId={}&matchupPeriodId={}\".format(configs['league_id'], week))\n",
    "        WebDriverWait(browser, timeout).until(EC.visibility_of_element_located((By.XPATH, score_path)))\n",
    "    except TimeoutException:\n",
    "        print(\"Timed out waiting for page to load\")\n",
    "        browser.quit()\n",
    "\n",
    "    score_urls = list(map(lambda x: str(x.get_attribute('href')), browser.find_elements_by_xpath(score_path)))\n",
    "    stats.append(get_stats(week))\n",
    "offense = pd.concat([x[0] for x in stats])\n",
    "defense = pd.concat([x[1] for x in stats])\n",
    "kicking = pd.concat([x[2] for x in stats])"
   ]
  }
 ],
 "metadata": {
  "kernelspec": {
   "display_name": "Python 3",
   "language": "python",
   "name": "python3"
  },
  "language_info": {
   "codemirror_mode": {
    "name": "ipython",
    "version": 2
   },
   "file_extension": ".py",
   "mimetype": "text/x-python",
   "name": "python",
   "nbconvert_exporter": "python",
   "pygments_lexer": "ipython2",
   "version": "2.7.15"
  }
 },
 "nbformat": 4,
 "nbformat_minor": 2
}
